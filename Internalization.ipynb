{
 "cells": [
  {
   "cell_type": "markdown",
   "metadata": {
    "collapsed": true
   },
   "source": [
    "English and ASCII:"
   ]
  },
  {
   "cell_type": "markdown",
   "metadata": {},
   "source": [
    "-7-bit character encoding standard: 128 valid codes"
   ]
  },
  {
   "cell_type": "raw",
   "metadata": {},
   "source": [
    "–Range: 0x00 – 0x7F [(0000 0000)2 to (0111 1111)2]\n",
    "–Includes alphabets (upper and lower cases), digits, punctuations, common symbols, control characters\n",
    "–Worked (relatively) well for English typewriting\n"
   ]
  },
  {
   "cell_type": "raw",
   "metadata": {},
   "source": [
    "Diatrics\n",
    "–résumé :: resume\n",
    "–naïve :: naive\n",
    "–café :: cafe\n",
    "–Québec\n",
    "–Zürich\n",
    "–Fédération Internationale de Football Association (FIFA)\n",
    "\n",
    "•International languages\n",
    "–基本上 सहायक ασπασθ универсальной\n",
    "–♪♬♩\n",
    "–☺☹\n"
   ]
  },
  {
   "cell_type": "raw",
   "metadata": {},
   "source": [
    "Other Character Encodings:\n",
    "IBM EBCDIC\n",
    "•Latin-1\n",
    "•JIS: Japanese Industrial Standards\n",
    "•CCCII: Chinese Character Code for Information Interchange\n",
    "•EUC: Extended Unix Code\n",
    "•Numerous other national standards\n",
    "•Unicode and UTF-8\n"
   ]
  },
  {
   "cell_type": "raw",
   "metadata": {},
   "source": [
    "Unicode: Industry standard for encoding and representing text \n",
    "•Over 128,000 characters from 130+ scripts and symbol sets \n",
    "•Can be implemented by different character endings \n",
    "    –UTF-8: One byte to up to four bytes\n",
    "    –UTF-16: One or two 16-bit code units\n",
    "    –UTF-32: One 32-bit code unit"
   ]
  },
  {
   "cell_type": "raw",
   "metadata": {},
   "source": [
    "Unicode Transformational Format – 8-bits\n",
    "•Variable length encoding: One to four bytes\n",
    "•Backward compatible with ASCII\n",
    "    –One byte codes same as ASCII\n",
    "•Dominant character encoding for the Web\n",
    "•How to handle in Python?\n",
    "    –Default in Python 3\n",
    "    –In Python 2: # -*- coding: utf-8 -*-\n"
   ]
  },
  {
   "cell_type": "raw",
   "metadata": {},
   "source": [
    "Example:"
   ]
  },
  {
   "cell_type": "code",
   "execution_count": 4,
   "metadata": {},
   "outputs": [],
   "source": [
    "text1 = \"Resume\"\n"
   ]
  },
  {
   "cell_type": "code",
   "execution_count": 5,
   "metadata": {},
   "outputs": [
    {
     "data": {
      "text/plain": [
       "6"
      ]
     },
     "execution_count": 5,
     "metadata": {},
     "output_type": "execute_result"
    }
   ],
   "source": [
    "len(text1)"
   ]
  },
  {
   "cell_type": "code",
   "execution_count": 6,
   "metadata": {},
   "outputs": [
    {
     "data": {
      "text/plain": [
       "['R', 'e', 's', 'u', 'm', 'e']"
      ]
     },
     "execution_count": 6,
     "metadata": {},
     "output_type": "execute_result"
    }
   ],
   "source": [
    "[c for c in text1]"
   ]
  },
  {
   "cell_type": "code",
   "execution_count": null,
   "metadata": {
    "collapsed": true
   },
   "outputs": [],
   "source": []
  }
 ],
 "metadata": {
  "kernelspec": {
   "display_name": "Python 3",
   "language": "python",
   "name": "python3"
  },
  "language_info": {
   "codemirror_mode": {
    "name": "ipython",
    "version": 3
   },
   "file_extension": ".py",
   "mimetype": "text/x-python",
   "name": "python",
   "nbconvert_exporter": "python",
   "pygments_lexer": "ipython3",
   "version": "3.6.3"
  }
 },
 "nbformat": 4,
 "nbformat_minor": 2
}
