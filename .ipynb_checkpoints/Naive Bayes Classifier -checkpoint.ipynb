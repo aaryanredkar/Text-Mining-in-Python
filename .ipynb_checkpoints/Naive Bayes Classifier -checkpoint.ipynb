{
 "cells": [
  {
   "cell_type": "raw",
   "metadata": {},
   "source": [
    "Naive Bayes Classifier"
   ]
  },
  {
   "cell_type": "raw",
   "metadata": {},
   "source": [
    "Prior Probability:\n",
    "    Prior knowledge or belief that label becomes entertainment.\n",
    "Posterior Probability:\n",
    "    Given new input the probability changes in each label"
   ]
  },
  {
   "cell_type": "raw",
   "metadata": {},
   "source": [
    "Posterior probability = (prior probability * Likelihood)/Evidence\n",
    "Pr(y|X) = (Pr(y)* Pr(X|y))/Pr(X) "
   ]
  },
  {
   "cell_type": "raw",
   "metadata": {},
   "source": [
    "Pr(y=CS|\"Python\") = (Pr(y=CS)* Pr(\"Python\"| y = CS))/Pr(\"Python\")"
   ]
  },
  {
   "cell_type": "raw",
   "metadata": {},
   "source": [
    "Goes through each label determining the probablilty in each label to see which has the highest probability."
   ]
  },
  {
   "cell_type": "raw",
   "metadata": {},
   "source": [
    "Learning Parameters:\n",
    "    -prior probablilties\n",
    "        -Count number of instances in each class\n",
    "    -Likelihood:\n",
    "        -Count number of times feature appeares in instances labeled as class y\n",
    "        -If there are p instances in class y and the feature appears in them then preobability of xi given y is feature divided by y."
   ]
  },
  {
   "cell_type": "raw",
   "metadata": {},
   "source": [
    "If probability = 0 smooth parameters. Instead of using 0 add one to each label making them equal."
   ]
  },
  {
   "cell_type": "raw",
   "metadata": {},
   "source": [
    "Naive Bayes is a probabilistic model"
   ]
  },
  {
   "cell_type": "code",
   "execution_count": null,
   "metadata": {
    "collapsed": true
   },
   "outputs": [],
   "source": []
  }
 ],
 "metadata": {
  "kernelspec": {
   "display_name": "Python 3",
   "language": "python",
   "name": "python3"
  },
  "language_info": {
   "codemirror_mode": {
    "name": "ipython",
    "version": 3
   },
   "file_extension": ".py",
   "mimetype": "text/x-python",
   "name": "python",
   "nbconvert_exporter": "python",
   "pygments_lexer": "ipython3",
   "version": "3.6.3"
  }
 },
 "nbformat": 4,
 "nbformat_minor": 2
}
