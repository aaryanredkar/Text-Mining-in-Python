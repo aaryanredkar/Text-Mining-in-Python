{
 "cells": [
  {
   "cell_type": "raw",
   "metadata": {},
   "source": [
    "What is Natural Language:\n",
    "•Language used for everyday communication by humans \n",
    "    –English \n",
    "    –中⽂文\n",
    "    –ру́сскийязы́к\n",
    "    –español \n",
    "        compared to the artificial computer languages \n"
   ]
  },
  {
   "cell_type": "raw",
   "metadata": {},
   "source": [
    "What is Natural Language Processing:\n",
    "•Any computation, manipulation of natural language \n",
    "•Natural languages evolve \n",
    "    –new words get added\n",
    "    –old words lose popularity\n",
    "    –meanings of words change\n",
    "    –language rules themselves may change\n"
   ]
  },
  {
   "cell_type": "raw",
   "metadata": {},
   "source": [
    "NLP Tasks: A Broad Spectrum\n",
    "•Counting words, counting frequency of words\n",
    "•Finding sentence boundaries•Part of speech tagging\n",
    "•Parsing the sentence structure•Identifying semantic roles\n",
    "•Identifying entities in a sentence\n",
    "•Finding which pronoun refers to which entity"
   ]
  },
  {
   "cell_type": "code",
   "execution_count": null,
   "metadata": {
    "collapsed": true
   },
   "outputs": [],
   "source": []
  }
 ],
 "metadata": {
  "kernelspec": {
   "display_name": "Python 3",
   "language": "python",
   "name": "python3"
  },
  "language_info": {
   "codemirror_mode": {
    "name": "ipython",
    "version": 3
   },
   "file_extension": ".py",
   "mimetype": "text/x-python",
   "name": "python",
   "nbconvert_exporter": "python",
   "pygments_lexer": "ipython3",
   "version": "3.6.3"
  }
 },
 "nbformat": 4,
 "nbformat_minor": 2
}
