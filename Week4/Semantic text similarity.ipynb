{
 "cells": [
  {
   "cell_type": "raw",
   "metadata": {},
   "source": [
    "deer: elk --- These two animals are the most similar\n",
    "deer: giraffe\n",
    "deer:horse\n",
    "deer: mouse"
   ]
  },
  {
   "cell_type": "raw",
   "metadata": {},
   "source": [
    "Semantic Similarity application:\n",
    "-Groups words that have similar meaning\n",
    "-Used as a building blick in natural language tasks\n",
    "    - textual entailment\n",
    "    - Paraphrasing(rewriting/rephrasing)\n",
    "    "
   ]
  },
  {
   "cell_type": "raw",
   "metadata": {},
   "source": [
    "WordNet:\n",
    "-A dictionary of english words that are connected by semantic relations\n",
    "-Conatains a lot of info for words in the application.\n",
    "    -EX: Part of speech,hypernym,hyponyms, meronyms\n",
    "        -EX: Hypernym: Colors ---> purple\n",
    "        -EX: Hyponym:  Purple ---> lavender and violet\n",
    "        -EX: Meronym:  Face   ---> eye and mouth\n",
    "-WordNet organizes Info as hierarchy\n",
    "- Semantic similarities uses hierarchy.\n",
    "    - Root Hierarchy:\n",
    "                          animal\n",
    "    Even toed animal                Odd toed animal\n",
    "    okapi  deer  girafffe      mule    horse     zebra\n",
    "    \n",
    "    Path similarity\n",
    "        - Path similarity finding the shortest path to the concept\n",
    "        - Similarity measure inversely related to path distance\n",
    "\n",
    "    Least common subsumer(LCS):\n",
    "        -Finding closest ancestor to both concepts\n",
    "Python:\n",
    "    WordNet you import through NLTK"
   ]
  },
  {
   "cell_type": "raw",
   "metadata": {},
   "source": [
    "import nltk\n",
    "from nltk.corpus import wordnet as wn\n",
    "EX:\n",
    "deer = wn.synset('deer.n.01')\n",
    "elk = wn.synset('elk.n.01')\n",
    "deer.path_similarity(elk)\n",
    "deer.path_similarity(horse)\n",
    "from nltk.corpus imort wordnet_ic\n",
    "brown_ic = wordnet_ic.ic('ic-brown.dat')\n",
    "deer.lin_similarity(elk,brown_ic)\n",
    "deer.lin_similarity(horse, brown_ic)"
   ]
  },
  {
   "cell_type": "code",
   "execution_count": 5,
   "metadata": {
    "collapsed": true
   },
   "outputs": [],
   "source": [
    "import nltk"
   ]
  },
  {
   "cell_type": "code",
   "execution_count": 7,
   "metadata": {},
   "outputs": [],
   "source": [
    "from nltk.corpus import wordnet as wn"
   ]
  },
  {
   "cell_type": "code",
   "execution_count": 23,
   "metadata": {},
   "outputs": [],
   "source": [
    "browser = wn.synset('browser.n.01')"
   ]
  },
  {
   "cell_type": "code",
   "execution_count": 24,
   "metadata": {
    "collapsed": true
   },
   "outputs": [],
   "source": [
    "google= wn.synset('google.n.01')"
   ]
  },
  {
   "cell_type": "code",
   "execution_count": 25,
   "metadata": {},
   "outputs": [
    {
     "data": {
      "text/plain": [
       "0.058823529411764705"
      ]
     },
     "execution_count": 25,
     "metadata": {},
     "output_type": "execute_result"
    }
   ],
   "source": [
    "browser.path_similarity(google)"
   ]
  },
  {
   "cell_type": "code",
   "execution_count": 13,
   "metadata": {},
   "outputs": [],
   "source": [
    "horse = wn.synset('horse.n.01')"
   ]
  },
  {
   "cell_type": "code",
   "execution_count": 14,
   "metadata": {},
   "outputs": [
    {
     "data": {
      "text/plain": [
       "0.14285714285714285"
      ]
     },
     "execution_count": 14,
     "metadata": {},
     "output_type": "execute_result"
    }
   ],
   "source": [
    "deer.path_similarity(horse)"
   ]
  },
  {
   "cell_type": "code",
   "execution_count": 17,
   "metadata": {},
   "outputs": [],
   "source": [
    "from nltk.corpus import wordnet_ic"
   ]
  },
  {
   "cell_type": "code",
   "execution_count": 18,
   "metadata": {
    "collapsed": true
   },
   "outputs": [],
   "source": [
    "brown_ic = wordnet_ic.ic('ic-brown.dat')"
   ]
  },
  {
   "cell_type": "code",
   "execution_count": 19,
   "metadata": {},
   "outputs": [
    {
     "data": {
      "text/plain": [
       "0.8623778273893673"
      ]
     },
     "execution_count": 19,
     "metadata": {},
     "output_type": "execute_result"
    }
   ],
   "source": [
    "deer.lin_similarity(elk,brown_ic)"
   ]
  },
  {
   "cell_type": "code",
   "execution_count": 20,
   "metadata": {},
   "outputs": [
    {
     "data": {
      "text/plain": [
       "0.7726998936065773"
      ]
     },
     "execution_count": 20,
     "metadata": {},
     "output_type": "execute_result"
    }
   ],
   "source": [
    "deer.lin_similarity(horse, brown_ic)"
   ]
  },
  {
   "cell_type": "code",
   "execution_count": null,
   "metadata": {
    "collapsed": true
   },
   "outputs": [],
   "source": []
  }
 ],
 "metadata": {
  "kernelspec": {
   "display_name": "Python 3",
   "language": "python",
   "name": "python3"
  },
  "language_info": {
   "codemirror_mode": {
    "name": "ipython",
    "version": 3
   },
   "file_extension": ".py",
   "mimetype": "text/x-python",
   "name": "python",
   "nbconvert_exporter": "python",
   "pygments_lexer": "ipython3",
   "version": "3.6.3"
  }
 },
 "nbformat": 4,
 "nbformat_minor": 2
}
