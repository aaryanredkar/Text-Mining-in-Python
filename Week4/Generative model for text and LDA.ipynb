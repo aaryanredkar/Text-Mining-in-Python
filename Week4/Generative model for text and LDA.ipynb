{
 "cells": [
  {
   "cell_type": "raw",
   "metadata": {},
   "source": [
    "Generative models for text:\n",
    " - group of words used to generate document\n",
    " - Infer document by counting how many time a particular word occurs.\n",
    " - Creates topics based on the most common words in the doc.\n",
    "LDA (LAtent Dirichlet Allocation_:\n",
    "-Generative model for a doc.\n",
    "    -step 1:Choose length of doc\n",
    "    -step 2:Choose a mixture of topics\n",
    "    -step 3:Use topic's dist to fill topic quota \n",
    "    -step 4:Use topic modeling distribution to output the words that fit in the topic\n",
    "    \n",
    "Questions to ask:\n",
    "    -How many topics should there be?\n",
    "    -How to interpret the topics?\n",
    "        -Which words are more frequent?"
   ]
  },
  {
   "cell_type": "raw",
   "metadata": {},
   "source": [
    "LDA in Python:\n",
    "-Many packages available\n",
    "    Ex: Gensim,lda\n",
    "-Must first Pre-process text:\n",
    "    -Tokenize/normalize\n",
    "    -remove buzz words\n",
    "        -Ex: it/is\n",
    "    -stemming: remove similar abrreviated words\n",
    "        -Ex: meet, meeting\n",
    "-Convert doc into doc term matrix:\n",
    "    - find important in words in each doc\n",
    "- Build LDA model for the document\n"
   ]
  },
  {
   "cell_type": "code",
   "execution_count": null,
   "metadata": {
    "collapsed": true
   },
   "outputs": [],
   "source": []
  }
 ],
 "metadata": {
  "kernelspec": {
   "display_name": "Python 3",
   "language": "python",
   "name": "python3"
  },
  "language_info": {
   "codemirror_mode": {
    "name": "ipython",
    "version": 3
   },
   "file_extension": ".py",
   "mimetype": "text/x-python",
   "name": "python",
   "nbconvert_exporter": "python",
   "pygments_lexer": "ipython3",
   "version": "3.6.3"
  }
 },
 "nbformat": 4,
 "nbformat_minor": 2
}
