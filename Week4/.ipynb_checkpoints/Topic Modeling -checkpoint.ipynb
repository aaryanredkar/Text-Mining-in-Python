{
 "cells": [
  {
   "cell_type": "raw",
   "metadata": {},
   "source": [
    "Topic Modeling:\n",
    "-A coarse level analysis of is in a text collection\n",
    "- Analysis words in a terxt and tries to find the subject or topic\n",
    "-Document= mixture of topics\n",
    "    -EX: Topics\n",
    "        Human\n",
    "        genome\n",
    "        DNA\n",
    "        gene\n",
    "Known in Topic Modeling:\n",
    "    - Text collection\n",
    "    - Num of topics\n",
    "Unknown in Topic Modeling:\n",
    "    - The actual topics\n",
    "    - Topic dist/split for each doc.\n",
    "Docs and words connected simultaneously"
   ]
  }
 ],
 "metadata": {
  "kernelspec": {
   "display_name": "Python 3",
   "language": "python",
   "name": "python3"
  },
  "language_info": {
   "codemirror_mode": {
    "name": "ipython",
    "version": 3
   },
   "file_extension": ".py",
   "mimetype": "text/x-python",
   "name": "python",
   "nbconvert_exporter": "python",
   "pygments_lexer": "ipython3",
   "version": "3.6.3"
  }
 },
 "nbformat": 4,
 "nbformat_minor": 2
}
